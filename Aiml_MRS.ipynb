{
  "nbformat": 4,
  "nbformat_minor": 0,
  "metadata": {
    "colab": {
      "provenance": []
    },
    "kernelspec": {
      "name": "python3",
      "display_name": "Python 3"
    },
    "language_info": {
      "name": "python"
    }
  },
  "cells": [
    {
      "cell_type": "code",
      "execution_count": 1,
      "metadata": {
        "id": "9gbxMRATECwJ",
        "colab": {
          "base_uri": "https://localhost:8080/"
        },
        "outputId": "00fdc093-0a16-4ffd-e62e-75f6861bd406"
      },
      "outputs": [
        {
          "output_type": "stream",
          "name": "stdout",
          "text": [
            "      budget                                         genres  \\\n",
            "0  237000000  [Action, Adventure, Fantasy, Science Fiction]   \n",
            "1  300000000                   [Adventure, Fantasy, Action]   \n",
            "2  245000000                     [Action, Adventure, Crime]   \n",
            "3  250000000               [Action, Crime, Drama, Thriller]   \n",
            "4  260000000           [Action, Adventure, Science Fiction]   \n",
            "\n",
            "                                       homepage      id  \\\n",
            "0                   http://www.avatarmovie.com/   19995   \n",
            "1  http://disney.go.com/disneypictures/pirates/     285   \n",
            "2   http://www.sonypictures.com/movies/spectre/  206647   \n",
            "3            http://www.thedarkknightrises.com/   49026   \n",
            "4          http://movies.disney.com/john-carter   49529   \n",
            "\n",
            "                                            keywords original_language  \\\n",
            "0  [{\"id\": 1463, \"name\": \"culture clash\"}, {\"id\":...                en   \n",
            "1  [{\"id\": 270, \"name\": \"ocean\"}, {\"id\": 726, \"na...                en   \n",
            "2  [{\"id\": 470, \"name\": \"spy\"}, {\"id\": 818, \"name...                en   \n",
            "3  [{\"id\": 849, \"name\": \"dc comics\"}, {\"id\": 853,...                en   \n",
            "4  [{\"id\": 818, \"name\": \"based on novel\"}, {\"id\":...                en   \n",
            "\n",
            "                             original_title  \\\n",
            "0                                    Avatar   \n",
            "1  Pirates of the Caribbean: At World's End   \n",
            "2                                   Spectre   \n",
            "3                     The Dark Knight Rises   \n",
            "4                               John Carter   \n",
            "\n",
            "                                            overview  popularity  \\\n",
            "0  In the 22nd century, a paraplegic Marine is di...  150.437577   \n",
            "1  Captain Barbossa, long believed to be dead, ha...  139.082615   \n",
            "2  A cryptic message from Bond’s past sends him o...  107.376788   \n",
            "3  Following the death of District Attorney Harve...  112.312950   \n",
            "4  John Carter is a war-weary, former military ca...   43.926995   \n",
            "\n",
            "                                production_companies  \\\n",
            "0  [{\"name\": \"Ingenious Film Partners\", \"id\": 289...   \n",
            "1  [{\"name\": \"Walt Disney Pictures\", \"id\": 2}, {\"...   \n",
            "2  [{\"name\": \"Columbia Pictures\", \"id\": 5}, {\"nam...   \n",
            "3  [{\"name\": \"Legendary Pictures\", \"id\": 923}, {\"...   \n",
            "4        [{\"name\": \"Walt Disney Pictures\", \"id\": 2}]   \n",
            "\n",
            "                                production_countries release_date     revenue  \\\n",
            "0  [{\"iso_3166_1\": \"US\", \"name\": \"United States o...   10-12-2009  2787965087   \n",
            "1  [{\"iso_3166_1\": \"US\", \"name\": \"United States o...   19-05-2007   961000000   \n",
            "2  [{\"iso_3166_1\": \"GB\", \"name\": \"United Kingdom\"...   26-10-2015   880674609   \n",
            "3  [{\"iso_3166_1\": \"US\", \"name\": \"United States o...   16-07-2012  1084939099   \n",
            "4  [{\"iso_3166_1\": \"US\", \"name\": \"United States o...   07-03-2012   284139100   \n",
            "\n",
            "   runtime                                   spoken_languages    status  \\\n",
            "0    162.0  [{\"iso_639_1\": \"en\", \"name\": \"English\"}, {\"iso...  Released   \n",
            "1    169.0           [{\"iso_639_1\": \"en\", \"name\": \"English\"}]  Released   \n",
            "2    148.0  [{\"iso_639_1\": \"fr\", \"name\": \"Fran\\u00e7ais\"},...  Released   \n",
            "3    165.0           [{\"iso_639_1\": \"en\", \"name\": \"English\"}]  Released   \n",
            "4    132.0           [{\"iso_639_1\": \"en\", \"name\": \"English\"}]  Released   \n",
            "\n",
            "                                          tagline  \\\n",
            "0                     Enter the World of Pandora.   \n",
            "1  At the end of the world, the adventure begins.   \n",
            "2                           A Plan No One Escapes   \n",
            "3                                 The Legend Ends   \n",
            "4            Lost in our world, found in another.   \n",
            "\n",
            "                                      title  vote_average  vote_count  \n",
            "0                                    Avatar           7.2       11800  \n",
            "1  Pirates of the Caribbean: At World's End           6.9        4500  \n",
            "2                                   Spectre           6.3        4466  \n",
            "3                     The Dark Knight Rises           7.6        9106  \n",
            "4                               John Carter           6.1        2124  \n"
          ]
        }
      ],
      "source": [
        "import pandas as pd\n",
        "import ast\n",
        "\n",
        "file_path = \"movies.csv\"\n",
        "movies_data = pd.read_csv(file_path)\n",
        "\n",
        "def preprocess_movies_data(data):\n",
        "\n",
        "    data = data.dropna(subset=['genres', 'title', 'vote_average', 'vote_count'])\n",
        "\n",
        "    def extract_genres(genre_str):\n",
        "        try:\n",
        "            genres = ast.literal_eval(genre_str)\n",
        "            return [genre['name'] for genre in genres]\n",
        "        except (ValueError, KeyError, TypeError):\n",
        "            return []\n",
        "\n",
        "    data['genres'] = data['genres'].apply(extract_genres)\n",
        "\n",
        "    # Filter movies with significant vote count\n",
        "    data = data[data['vote_count'] > 50]\n",
        "    return data\n",
        "\n",
        "# Apply preprocessing\n",
        "cleaned_movies_data = preprocess_movies_data(movies_data)\n",
        "\n",
        "# View cleaned data\n",
        "print(cleaned_movies_data.head())\n"
      ]
    },
    {
      "cell_type": "code",
      "source": [
        "from sklearn.metrics.pairwise import cosine_similarity\n",
        "\n",
        "# Create a user-item matrix\n",
        "def create_user_item_matrix(data):\n",
        "    user_item_matrix = data.pivot_table(index='id', columns='title', values='vote_average').fillna(0)\n",
        "    return user_item_matrix\n",
        "\n",
        "# Calculate user similarity\n",
        "def calculate_user_similarity(matrix):\n",
        "    user_similarity = cosine_similarity(matrix)\n",
        "    return pd.DataFrame(user_similarity, index=matrix.index, columns=matrix.index)\n",
        "\n",
        "# Generate user-item matrix and calculate similarity\n",
        "user_item_matrix = create_user_item_matrix(cleaned_movies_data)\n",
        "user_similarity_matrix = calculate_user_similarity(user_item_matrix)\n",
        "\n",
        "# View user similarity for the first 5 users\n",
        "print(user_similarity_matrix.iloc[:5, :5])\n"
      ],
      "metadata": {
        "id": "Hj6X4LqVgTgy",
        "colab": {
          "base_uri": "https://localhost:8080/"
        },
        "outputId": "01ce3c9a-d86b-4442-fa5d-a85c1a1548f8"
      },
      "execution_count": null,
      "outputs": [
        {
          "output_type": "stream",
          "name": "stdout",
          "text": [
            "id   5    11   12   13   14\n",
            "id                         \n",
            "5   1.0  0.0  0.0  0.0  0.0\n",
            "11  0.0  1.0  0.0  0.0  0.0\n",
            "12  0.0  0.0  1.0  0.0  0.0\n",
            "13  0.0  0.0  0.0  1.0  0.0\n",
            "14  0.0  0.0  0.0  0.0  1.0\n"
          ]
        }
      ]
    },
    {
      "cell_type": "code",
      "source": [
        "# Calculate item-based similarity\n",
        "def calculate_item_similarity(matrix):\n",
        "    item_similarity = cosine_similarity(matrix.T)\n",
        "    return pd.DataFrame(item_similarity, index=matrix.columns, columns=matrix.columns)\n",
        "\n",
        "# Generate item similarity matrix\n",
        "item_similarity_matrix = calculate_item_similarity(user_item_matrix)\n",
        "\n",
        "# Recommend movies\n",
        "def recommend_movies(movie_title, similarity_matrix, num_recommendations=5):\n",
        "    if movie_title not in similarity_matrix.columns:\n",
        "        return f\"Movie '{movie_title}' not found in the dataset.\"\n",
        "    similarity_scores = similarity_matrix[movie_title]\n",
        "    similar_movies = similarity_scores.sort_values(ascending=False)\n",
        "    return similar_movies.index[1:num_recommendations+1].tolist()\n",
        "\n",
        "# Get recommendations for a movie\n",
        "recommendations = recommend_movies(\"Avatar\", item_similarity_matrix)\n",
        "print(recommendations)\n",
        "\n"
      ],
      "metadata": {
        "colab": {
          "base_uri": "https://localhost:8080/"
        },
        "id": "PMxEv_4_DwdT",
        "outputId": "3170835c-88b1-4d07-c910-4004ec88a0bc"
      },
      "execution_count": null,
      "outputs": [
        {
          "output_type": "stream",
          "name": "stdout",
          "text": [
            "['#Horror', 'Spy Kids 3-D: Game Over', 'Spirited Away', 'Splash', 'Splice']\n"
          ]
        }
      ]
    },
    {
      "cell_type": "code",
      "source": [
        "from sklearn.decomposition import TruncatedSVD\n",
        "\n",
        "# Apply SVD\n",
        "def apply_svd(matrix, n_components=20):\n",
        "    svd = TruncatedSVD(n_components=n_components)\n",
        "    reduced_matrix = svd.fit_transform(matrix)\n",
        "    return reduced_matrix, svd\n",
        "\n",
        "# Generate reduced matrix\n",
        "reduced_matrix, svd_model = apply_svd(user_item_matrix)\n",
        "print(f\"Shape of reduced matrix: {reduced_matrix.shape}\")\n"
      ],
      "metadata": {
        "colab": {
          "base_uri": "https://localhost:8080/"
        },
        "id": "Ouwol4-9D19H",
        "outputId": "dbc4f336-53c9-4970-8e58-89962622ade0"
      },
      "execution_count": null,
      "outputs": [
        {
          "output_type": "stream",
          "name": "stdout",
          "text": [
            "Shape of reduced matrix: (3639, 20)\n"
          ]
        }
      ]
    },
    {
      "cell_type": "code",
      "source": [
        "from sklearn.metrics import mean_squared_error\n",
        "\n",
        "# Example: Calculate RMSE for dummy predictions\n",
        "def evaluate_rmse(actual, predicted):\n",
        "    return mean_squared_error(actual, predicted, squared=False)\n",
        "\n",
        "# Example usage with mock data\n",
        "actual = [4, 3, 5]\n",
        "predicted = [3.8, 3.2, 4.9]\n",
        "rmse = evaluate_rmse(actual, predicted)\n",
        "print(f\"RMSE: {rmse}\")\n"
      ],
      "metadata": {
        "colab": {
          "base_uri": "https://localhost:8080/"
        },
        "id": "zWmrtzDHD6yT",
        "outputId": "598e701d-3e12-492d-887a-46396df4b43a"
      },
      "execution_count": null,
      "outputs": [
        {
          "output_type": "stream",
          "name": "stdout",
          "text": [
            "RMSE: 0.17320508075688779\n"
          ]
        },
        {
          "output_type": "stream",
          "name": "stderr",
          "text": [
            "/usr/local/lib/python3.10/dist-packages/sklearn/metrics/_regression.py:492: FutureWarning: 'squared' is deprecated in version 1.4 and will be removed in 1.6. To calculate the root mean squared error, use the function'root_mean_squared_error'.\n",
            "  warnings.warn(\n"
          ]
        }
      ]
    },
    {
      "cell_type": "code",
      "source": [
        "def user_interface():\n",
        "    print(\"Welcome to the Movie Recommendation System!\")\n",
        "    while True:\n",
        "        movie_title = input(\"Enter a movie title you like (or 'exit' to quit): \")\n",
        "        if movie_title.lower() == 'exit':\n",
        "            print(\"Thank you for using the system!\")\n",
        "            break\n",
        "        recommendations = recommend_movies(movie_title, item_similarity_matrix)\n",
        "        if isinstance(recommendations, str):\n",
        "            print(recommendations)\n",
        "        else:\n",
        "            print(f\"Recommendations for '{movie_title}': {', '.join(recommendations)}\")\n",
        "\n",
        "# Run the interface\n",
        "user_interface()\n"
      ],
      "metadata": {
        "colab": {
          "base_uri": "https://localhost:8080/"
        },
        "id": "W3OQvEiND_-U",
        "outputId": "9b0c744b-ae2c-45e4-cede-6c0800dc9983"
      },
      "execution_count": null,
      "outputs": [
        {
          "output_type": "stream",
          "name": "stdout",
          "text": [
            "Welcome to the Movie Recommendation System!\n",
            "Enter a movie title you like (or 'exit' to quit): Avatar\n",
            "Recommendations for 'Avatar': #Horror, Spy Kids 3-D: Game Over, Spirited Away, Splash, Splice\n",
            "Enter a movie title you like (or 'exit' to quit): exit\n",
            "Thank you for using the system!\n"
          ]
        }
      ]
    },
    {
      "cell_type": "code",
      "source": [
        "# Display all unique movie titles\n",
        "movie_titles = cleaned_movies_data['title'].unique()\n",
        "print(f\"Number of movies: {len(movie_titles)}\")\n",
        "print(movie_titles[:10])  # Display the first 10 movie titles\n"
      ],
      "metadata": {
        "colab": {
          "base_uri": "https://localhost:8080/"
        },
        "id": "z1lNkr3JEFhZ",
        "outputId": "97340c40-ecd9-465c-c215-7d1e086a2e6a"
      },
      "execution_count": null,
      "outputs": [
        {
          "output_type": "stream",
          "name": "stdout",
          "text": [
            "Number of movies: 3637\n",
            "['Avatar' \"Pirates of the Caribbean: At World's End\" 'Spectre'\n",
            " 'The Dark Knight Rises' 'John Carter' 'Spider-Man 3' 'Tangled'\n",
            " 'Avengers: Age of Ultron' 'Harry Potter and the Half-Blood Prince'\n",
            " 'Batman v Superman: Dawn of Justice']\n"
          ]
        }
      ]
    },
    {
      "cell_type": "code",
      "source": [
        "import pandas as pd\n",
        "import ast\n",
        "from sklearn.metrics.pairwise import cosine_similarity\n",
        "\n",
        "# Function to recommend movies\n",
        "def recommend_movies(movie_title, similarity_matrix):\n",
        "    if movie_title not in similarity_matrix.columns:\n",
        "        return f\"Movie '{movie_title}' not found in the dataset.\"\n",
        "    similarity_scores = similarity_matrix[movie_title]\n",
        "    similar_movies = similarity_scores.sort_values(ascending=False)\n",
        "    return similar_movies.index[1:11].tolist()  # Top 10 recommendations\n",
        "\n",
        "# User Interface Function\n",
        "def user_interface():\n",
        "    print(\"Welcome to the Movie Recommendation System!\")\n",
        "    print(\"You can filter your recommendations by genre, release year, and rating.\")\n",
        "\n",
        "    while True:\n",
        "        movie_title = input(\"\\nEnter a movie title you like (or 'exit' to quit): \")\n",
        "        if movie_title.lower() == 'exit':\n",
        "            print(\"Thank you for using the Movie Recommendation System. Goodbye!\")\n",
        "            break\n",
        "\n",
        "        # Get user filters\n",
        "        genre_filter = input(\"Enter a genre to filter by (or press Enter to skip): \").strip()\n",
        "        year_filter = input(\"Enter a release year to filter by (or press Enter to skip): \").strip()\n",
        "        min_rating = input(\"Enter minimum rating (0-10, or press Enter to skip): \").strip()\n",
        "\n",
        "        # Convert filters to proper types\n",
        "        year_filter = int(year_filter) if year_filter.isdigit() else None\n",
        "        min_rating = float(min_rating) if min_rating.replace('.', '', 1).isdigit() else 0\n",
        "\n",
        "        # Get recommendations\n",
        "        recommendations = recommend_movies(movie_title, item_similarity_matrix)\n",
        "        if isinstance(recommendations, str):  # If error message is returned\n",
        "            print(recommendations)\n",
        "            continue\n",
        "\n",
        "        # Filter recommendations based on user inputs\n",
        "        filtered_recommendations = []\n",
        "        for movie in recommendations:\n",
        "            movie_data = cleaned_movies_data[cleaned_movies_data['title'] == movie]\n",
        "            if movie_data.empty:\n",
        "                continue\n",
        "            movie_data = movie_data.iloc[0]\n",
        "\n",
        "            # Check genre filter\n",
        "            if genre_filter and genre_filter.lower() not in [g.lower() for g in movie_data['genres']]:\n",
        "                continue\n",
        "\n",
        "\n",
        "            if year_filter and str(year_filter) != movie_data['release_date'][:4]:\n",
        "                continue\n",
        "\n",
        "            if movie_data[\"vote_average\"] < min_rating:\n",
        "                continue\n",
        "\n",
        "            filtered_recommendations.append(movie)\n",
        "\n",
        "        if filtered_recommendations:\n",
        "            print(f\"\\nRecommendations for '{movie_title}':\")\n",
        "            print(\", \".join(filtered_recommendations))\n",
        "        else:\n",
        "            print(f\"No recommendations found for '{movie_title}' with your specified filters.\")\n",
        "\n",
        "user_interface()\n"
      ],
      "metadata": {
        "colab": {
          "base_uri": "https://localhost:8080/"
        },
        "id": "VAxr5hStElTv",
        "outputId": "a78523dd-af8a-4c9e-b2ed-fb535ea91f47"
      },
      "execution_count": null,
      "outputs": [
        {
          "output_type": "stream",
          "name": "stdout",
          "text": [
            "Welcome to the Movie Recommendation System!\n",
            "You can filter your recommendations by genre, release year, and rating.\n",
            "\n",
            "Enter a movie title you like (or 'exit' to quit): Avatar\n",
            "Enter a genre to filter by (or press Enter to skip): Action\n",
            "Enter a release year to filter by (or press Enter to skip): 2009\n",
            "Enter minimum rating (0-10, or press Enter to skip): 8\n",
            "No recommendations found for 'Avatar' with your specified filters.\n",
            "\n",
            "Enter a movie title you like (or 'exit' to quit): exit\n",
            "Thank you for using the Movie Recommendation System. Goodbye!\n"
          ]
        }
      ]
    },
    {
      "cell_type": "code",
      "source": [
        "# Extract unique genres from the dataset\n",
        "unique_genres = set(genre for genres_list in cleaned_movies_data['genres'] for genre in genres_list)\n",
        "print(f\"Number of unique genres: {len(unique_genres)}\")\n",
        "print(unique_genres)\n"
      ],
      "metadata": {
        "colab": {
          "base_uri": "https://localhost:8080/"
        },
        "id": "fG1YV90kFWCq",
        "outputId": "afffa20b-bac0-4632-c779-d1be30c9e1f9"
      },
      "execution_count": null,
      "outputs": [
        {
          "output_type": "stream",
          "name": "stdout",
          "text": [
            "Number of unique genres: 19\n",
            "{'TV Movie', 'Thriller', 'Adventure', 'Family', 'Crime', 'Music', 'Romance', 'Mystery', 'Drama', 'Western', 'Animation', 'Comedy', 'History', 'Science Fiction', 'Fantasy', 'Documentary', 'Action', 'War', 'Horror'}\n"
          ]
        }
      ]
    },
    {
      "cell_type": "code",
      "source": [
        "def get_movie_genres(movie_titles):\n",
        "\n",
        "    movie_genre_dict = {}\n",
        "    for title in movie_titles:\n",
        "        movie_data = cleaned_movies_data[cleaned_movies_data['title'] == title]\n",
        "        if not movie_data.empty:\n",
        "            genres = movie_data['genres'].iloc[0]\n",
        "            movie_genre_dict[title] = genres\n",
        "        else:\n",
        "            movie_genre_dict[title] = \"Movie not found in the dataset\"\n",
        "    return movie_genre_dict\n",
        "\n",
        "movie_list = [\"Avatar\", \"The Dark Knight\", \"Iron Man\", \"Movie not in dataset\"] # Example movie titles\n",
        "movie_genres = get_movie_genres(movie_list)\n",
        "for title, genres in movie_genres.items():\n",
        "  print(f\"{title}: {genres}\")"
      ],
      "metadata": {
        "id": "b95lu-1BFWyG",
        "colab": {
          "base_uri": "https://localhost:8080/"
        },
        "outputId": "7c318cea-47dd-4c78-d902-5876ebe5b55b"
      },
      "execution_count": null,
      "outputs": [
        {
          "output_type": "stream",
          "name": "stdout",
          "text": [
            "Avatar: ['Action', 'Adventure', 'Fantasy', 'Science Fiction']\n",
            "The Dark Knight: ['Drama', 'Action', 'Crime', 'Thriller']\n",
            "Iron Man: ['Action', 'Science Fiction', 'Adventure']\n",
            "Movie not in dataset: Movie not found in the dataset\n"
          ]
        }
      ]
    },
    {
      "cell_type": "code",
      "source": [
        "print(cleaned_movies_data.head())\n"
      ],
      "metadata": {
        "colab": {
          "base_uri": "https://localhost:8080/"
        },
        "id": "mqDVwmRmHh7h",
        "outputId": "0e26fa8e-bd76-42eb-cda5-b2771b84f2c6"
      },
      "execution_count": null,
      "outputs": [
        {
          "output_type": "stream",
          "name": "stdout",
          "text": [
            "      budget                                         genres  \\\n",
            "0  237000000  [Action, Adventure, Fantasy, Science Fiction]   \n",
            "1  300000000                   [Adventure, Fantasy, Action]   \n",
            "2  245000000                     [Action, Adventure, Crime]   \n",
            "3  250000000               [Action, Crime, Drama, Thriller]   \n",
            "4  260000000           [Action, Adventure, Science Fiction]   \n",
            "\n",
            "                                       homepage      id  \\\n",
            "0                   http://www.avatarmovie.com/   19995   \n",
            "1  http://disney.go.com/disneypictures/pirates/     285   \n",
            "2   http://www.sonypictures.com/movies/spectre/  206647   \n",
            "3            http://www.thedarkknightrises.com/   49026   \n",
            "4          http://movies.disney.com/john-carter   49529   \n",
            "\n",
            "                                            keywords original_language  \\\n",
            "0  [{\"id\": 1463, \"name\": \"culture clash\"}, {\"id\":...                en   \n",
            "1  [{\"id\": 270, \"name\": \"ocean\"}, {\"id\": 726, \"na...                en   \n",
            "2  [{\"id\": 470, \"name\": \"spy\"}, {\"id\": 818, \"name...                en   \n",
            "3  [{\"id\": 849, \"name\": \"dc comics\"}, {\"id\": 853,...                en   \n",
            "4  [{\"id\": 818, \"name\": \"based on novel\"}, {\"id\":...                en   \n",
            "\n",
            "                             original_title  \\\n",
            "0                                    Avatar   \n",
            "1  Pirates of the Caribbean: At World's End   \n",
            "2                                   Spectre   \n",
            "3                     The Dark Knight Rises   \n",
            "4                               John Carter   \n",
            "\n",
            "                                            overview  popularity  \\\n",
            "0  In the 22nd century, a paraplegic Marine is di...  150.437577   \n",
            "1  Captain Barbossa, long believed to be dead, ha...  139.082615   \n",
            "2  A cryptic message from Bond’s past sends him o...  107.376788   \n",
            "3  Following the death of District Attorney Harve...  112.312950   \n",
            "4  John Carter is a war-weary, former military ca...   43.926995   \n",
            "\n",
            "                                production_companies  \\\n",
            "0  [{\"name\": \"Ingenious Film Partners\", \"id\": 289...   \n",
            "1  [{\"name\": \"Walt Disney Pictures\", \"id\": 2}, {\"...   \n",
            "2  [{\"name\": \"Columbia Pictures\", \"id\": 5}, {\"nam...   \n",
            "3  [{\"name\": \"Legendary Pictures\", \"id\": 923}, {\"...   \n",
            "4        [{\"name\": \"Walt Disney Pictures\", \"id\": 2}]   \n",
            "\n",
            "                                production_countries release_date     revenue  \\\n",
            "0  [{\"iso_3166_1\": \"US\", \"name\": \"United States o...   10-12-2009  2787965087   \n",
            "1  [{\"iso_3166_1\": \"US\", \"name\": \"United States o...   19-05-2007   961000000   \n",
            "2  [{\"iso_3166_1\": \"GB\", \"name\": \"United Kingdom\"...   26-10-2015   880674609   \n",
            "3  [{\"iso_3166_1\": \"US\", \"name\": \"United States o...   16-07-2012  1084939099   \n",
            "4  [{\"iso_3166_1\": \"US\", \"name\": \"United States o...   07-03-2012   284139100   \n",
            "\n",
            "   runtime                                   spoken_languages    status  \\\n",
            "0    162.0  [{\"iso_639_1\": \"en\", \"name\": \"English\"}, {\"iso...  Released   \n",
            "1    169.0           [{\"iso_639_1\": \"en\", \"name\": \"English\"}]  Released   \n",
            "2    148.0  [{\"iso_639_1\": \"fr\", \"name\": \"Fran\\u00e7ais\"},...  Released   \n",
            "3    165.0           [{\"iso_639_1\": \"en\", \"name\": \"English\"}]  Released   \n",
            "4    132.0           [{\"iso_639_1\": \"en\", \"name\": \"English\"}]  Released   \n",
            "\n",
            "                                          tagline  \\\n",
            "0                     Enter the World of Pandora.   \n",
            "1  At the end of the world, the adventure begins.   \n",
            "2                           A Plan No One Escapes   \n",
            "3                                 The Legend Ends   \n",
            "4            Lost in our world, found in another.   \n",
            "\n",
            "                                      title  vote_average  vote_count  \n",
            "0                                    Avatar           7.2       11800  \n",
            "1  Pirates of the Caribbean: At World's End           6.9        4500  \n",
            "2                                   Spectre           6.3        4466  \n",
            "3                     The Dark Knight Rises           7.6        9106  \n",
            "4                               John Carter           6.1        2124  \n"
          ]
        }
      ]
    },
    {
      "cell_type": "code",
      "source": [
        "print(cleaned_movies_data[cleaned_movies_data['title'] == 'Avatar']['genres'])\n"
      ],
      "metadata": {
        "colab": {
          "base_uri": "https://localhost:8080/"
        },
        "id": "nyuxBcAgHii7",
        "outputId": "a5c3cdcb-14f8-452a-854a-70ece2590e4d"
      },
      "execution_count": null,
      "outputs": [
        {
          "output_type": "stream",
          "name": "stdout",
          "text": [
            "0    [Action, Adventure, Fantasy, Science Fiction]\n",
            "Name: genres, dtype: object\n"
          ]
        }
      ]
    },
    {
      "cell_type": "code",
      "source": [
        "print(cleaned_movies_data[cleaned_movies_data['title'] == 'Avatar']['release_date'])\n"
      ],
      "metadata": {
        "colab": {
          "base_uri": "https://localhost:8080/"
        },
        "id": "zCOrh4aZHtW0",
        "outputId": "63d03b34-989b-4234-fea5-8e1cf6d7aa09"
      },
      "execution_count": null,
      "outputs": [
        {
          "output_type": "stream",
          "name": "stdout",
          "text": [
            "0    10-12-2009\n",
            "Name: release_date, dtype: object\n"
          ]
        }
      ]
    },
    {
      "cell_type": "code",
      "source": [
        "print(cleaned_movies_data[cleaned_movies_data['title'] == 'Avatar']['vote_average'])\n"
      ],
      "metadata": {
        "colab": {
          "base_uri": "https://localhost:8080/"
        },
        "id": "05_7eL2GHxRE",
        "outputId": "05989b0c-fbf3-47b1-d16b-96e89e62c38e"
      },
      "execution_count": null,
      "outputs": [
        {
          "output_type": "stream",
          "name": "stdout",
          "text": [
            "0    7.2\n",
            "Name: vote_average, dtype: float64\n"
          ]
        }
      ]
    },
    {
      "cell_type": "code",
      "source": [],
      "metadata": {
        "id": "KL1T_DP2H09S"
      },
      "execution_count": null,
      "outputs": []
    },
    {
      "cell_type": "code",
      "source": [
        "print(cleaned_movies_data[cleaned_movies_data['title'] == 'Avatar']['vote_average'])\n",
        "\n"
      ],
      "metadata": {
        "colab": {
          "base_uri": "https://localhost:8080/"
        },
        "id": "UewZybruIA0l",
        "outputId": "f3f378ab-c767-49ee-8921-cf744e7ef8e5"
      },
      "execution_count": null,
      "outputs": [
        {
          "output_type": "stream",
          "name": "stdout",
          "text": [
            "0    7.2\n",
            "Name: vote_average, dtype: float64\n"
          ]
        }
      ]
    },
    {
      "cell_type": "code",
      "source": [
        "['Action', 'Adventure', 'Sci-Fi']\n"
      ],
      "metadata": {
        "id": "yi5mq615IbVh",
        "colab": {
          "base_uri": "https://localhost:8080/"
        },
        "outputId": "933941f4-fec6-4149-e773-768e025c4358"
      },
      "execution_count": null,
      "outputs": [
        {
          "output_type": "execute_result",
          "data": {
            "text/plain": [
              "['Action', 'Adventure', 'Sci-Fi']"
            ]
          },
          "metadata": {},
          "execution_count": 15
        }
      ]
    },
    {
      "cell_type": "code",
      "source": [
        "print(movies_data[movies_data['title'] == 'Avatar'])\n",
        "\n"
      ],
      "metadata": {
        "colab": {
          "base_uri": "https://localhost:8080/"
        },
        "id": "R-Tp-GG7tX-K",
        "outputId": "3cb09391-56fb-406e-e44e-4d8240ede3b0"
      },
      "execution_count": null,
      "outputs": [
        {
          "output_type": "stream",
          "name": "stdout",
          "text": [
            "      budget                                             genres  \\\n",
            "0  237000000  [{\"id\": 28, \"name\": \"Action\"}, {\"id\": 12, \"nam...   \n",
            "\n",
            "                      homepage     id  \\\n",
            "0  http://www.avatarmovie.com/  19995   \n",
            "\n",
            "                                            keywords original_language  \\\n",
            "0  [{\"id\": 1463, \"name\": \"culture clash\"}, {\"id\":...                en   \n",
            "\n",
            "  original_title                                           overview  \\\n",
            "0         Avatar  In the 22nd century, a paraplegic Marine is di...   \n",
            "\n",
            "   popularity                               production_companies  \\\n",
            "0  150.437577  [{\"name\": \"Ingenious Film Partners\", \"id\": 289...   \n",
            "\n",
            "                                production_countries release_date     revenue  \\\n",
            "0  [{\"iso_3166_1\": \"US\", \"name\": \"United States o...   10-12-2009  2787965087   \n",
            "\n",
            "   runtime                                   spoken_languages    status  \\\n",
            "0    162.0  [{\"iso_639_1\": \"en\", \"name\": \"English\"}, {\"iso...  Released   \n",
            "\n",
            "                       tagline   title  vote_average  vote_count  \n",
            "0  Enter the World of Pandora.  Avatar           7.2       11800  \n"
          ]
        }
      ]
    },
    {
      "cell_type": "code",
      "source": [
        "print(movies_data.shape)\n",
        "print(movies_data.columns)\n"
      ],
      "metadata": {
        "colab": {
          "base_uri": "https://localhost:8080/"
        },
        "id": "JUVkIAU6tbH_",
        "outputId": "4557335f-10d4-4198-cdbc-45bb6944b170"
      },
      "execution_count": null,
      "outputs": [
        {
          "output_type": "stream",
          "name": "stdout",
          "text": [
            "(4803, 20)\n",
            "Index(['budget', 'genres', 'homepage', 'id', 'keywords', 'original_language',\n",
            "       'original_title', 'overview', 'popularity', 'production_companies',\n",
            "       'production_countries', 'release_date', 'revenue', 'runtime',\n",
            "       'spoken_languages', 'status', 'tagline', 'title', 'vote_average',\n",
            "       'vote_count'],\n",
            "      dtype='object')\n"
          ]
        }
      ]
    },
    {
      "cell_type": "code",
      "source": [
        "\n",
        "\n",
        "import pandas as pd\n",
        "import ast\n",
        "from sklearn.metrics.pairwise import cosine_similarity\n",
        "\n",
        "try:\n",
        "    movies_data = pd.read_csv(\"movies.csv\")\n",
        "except FileNotFoundError:\n",
        "    print(\"Error: 'movies.csv' not found. Please make sure the file is in the same directory as the script.\")\n",
        "    exit()\n",
        "\n",
        "def recommend_movies(movie_title, similarity_matrix, genre_filter=None, year_filter=None, min_rating=0):\n",
        "    if movie_title not in similarity_matrix.columns:\n",
        "        return f\"Movie '{movie_title}' not found in the dataset.\"\n",
        "\n",
        "    similarity_scores = similarity_matrix[movie_title]\n",
        "    similar_movies = similarity_scores.sort_values(ascending=False)\n",
        "\n",
        "    recommendations = []\n",
        "    for movie in similar_movies.index[1:11]:  # Top 10 recommendations\n",
        "      movie_data = cleaned_movies_data[cleaned_movies_data['title'] == movie]\n",
        "\n",
        "      if movie_data.empty:\n",
        "          continue\n",
        "\n",
        "      movie_data = movie_data.iloc[0]\n",
        "\n",
        "      if genre_filter and genre_filter.lower() not in [g.lower() for g in movie_data['genres']]:\n",
        "          continue\n",
        "\n",
        "      if year_filter and str(year_filter) != str(movie_data['release_date'])[:4]:\n",
        "          continue\n",
        "\n",
        "      if movie_data[\"vote_average\"] < min_rating:\n",
        "          continue\n",
        "\n",
        "      recommendations.append(movie)\n",
        "\n",
        "    return recommendations[:10]  # Return at most 10 recommendations\n",
        "\n",
        "\n",
        "def user_interface():\n",
        "    print(\"Welcome to the Movie Recommendation System!\")\n",
        "\n",
        "    while True:\n",
        "        movie_title = input(\"\\nEnter a movie title you like (or 'exit' to quit): \").strip()\n",
        "        if movie_title.lower() == 'exit':\n",
        "            print(\"Thank you for using the Movie Recommendation System. Goodbye!\")\n",
        "            break\n",
        "\n",
        "        genre_filter = input(\"Enter a genre to filter by (or press Enter to skip): \").strip()\n",
        "        year_filter = input(\"Enter a release year to filter by (or press Enter to skip): \").strip()\n",
        "        min_rating_str = input(\"Enter minimum rating (0-10, or press Enter to skip): \").strip()\n",
        "        min_rating = float(min_rating_str) if min_rating_str and min_rating_str.replace('.', '', 1).isdigit() else 0\n",
        "\n",
        "\n",
        "        recommendations = recommend_movies(movie_title, item_similarity_matrix, genre_filter, year_filter, min_rating)\n",
        "\n",
        "        if isinstance(recommendations, str):\n",
        "            print(recommendations)\n",
        "        elif recommendations:\n",
        "            print(f\"\\nRecommendations for '{movie_title}':\")\n",
        "            for movie in recommendations:\n",
        "                print(movie)\n",
        "        else:\n",
        "            print(f\"No recommendations found for '{movie_title}' with your specified filters.\")\n",
        "\n",
        "\n",
        "cleaned_movies_data = preprocess_movies_data(movies_data)\n",
        "user_item_matrix = create_user_item_matrix(cleaned_movies_data)\n",
        "item_similarity_matrix = calculate_item_similarity(user_item_matrix)\n",
        "\n",
        "\n",
        "user_interface()"
      ],
      "metadata": {
        "colab": {
          "base_uri": "https://localhost:8080/"
        },
        "id": "NldOVOIsuWKP",
        "outputId": "1629a387-0c96-46f4-c506-ff321f6f1a0d"
      },
      "execution_count": null,
      "outputs": [
        {
          "output_type": "stream",
          "name": "stdout",
          "text": [
            "Welcome to the Movie Recommendation System!\n",
            "\n",
            "Enter a movie title you like (or 'exit' to quit): Avatar\n",
            "Enter a genre to filter by (or press Enter to skip): Action\n",
            "Enter a release year to filter by (or press Enter to skip): 2009\n",
            "Enter minimum rating (0-10, or press Enter to skip): 8\n",
            "No recommendations found for 'Avatar' with your specified filters.\n",
            "\n",
            "Enter a movie title you like (or 'exit' to quit): The Lion King\n",
            "Enter a genre to filter by (or press Enter to skip): Adventure\n",
            "Enter a release year to filter by (or press Enter to skip): 1994\n",
            "Enter minimum rating (0-10, or press Enter to skip): 8.5\n",
            "No recommendations found for 'The Lion King' with your specified filters.\n",
            "\n",
            "Enter a movie title you like (or 'exit' to quit): exit\n",
            "Thank you for using the Movie Recommendation System. Goodbye!\n"
          ]
        }
      ]
    },
    {
      "cell_type": "code",
      "source": [
        "print(movies_data[movies_data['title'] == 'Avatar'])\n",
        "print(movies_data[movies_data['title'] == 'The Lion King'])\n"
      ],
      "metadata": {
        "colab": {
          "base_uri": "https://localhost:8080/"
        },
        "id": "ArIKZvg7x886",
        "outputId": "7c3ae742-fdcd-4b6d-fde8-cd41aa240026"
      },
      "execution_count": null,
      "outputs": [
        {
          "output_type": "stream",
          "name": "stdout",
          "text": [
            "      budget                                             genres  \\\n",
            "0  237000000  [{\"id\": 28, \"name\": \"Action\"}, {\"id\": 12, \"nam...   \n",
            "\n",
            "                      homepage     id  \\\n",
            "0  http://www.avatarmovie.com/  19995   \n",
            "\n",
            "                                            keywords original_language  \\\n",
            "0  [{\"id\": 1463, \"name\": \"culture clash\"}, {\"id\":...                en   \n",
            "\n",
            "  original_title                                           overview  \\\n",
            "0         Avatar  In the 22nd century, a paraplegic Marine is di...   \n",
            "\n",
            "   popularity                               production_companies  \\\n",
            "0  150.437577  [{\"name\": \"Ingenious Film Partners\", \"id\": 289...   \n",
            "\n",
            "                                production_countries release_date     revenue  \\\n",
            "0  [{\"iso_3166_1\": \"US\", \"name\": \"United States o...   10-12-2009  2787965087   \n",
            "\n",
            "   runtime                                   spoken_languages    status  \\\n",
            "0    162.0  [{\"iso_639_1\": \"en\", \"name\": \"English\"}, {\"iso...  Released   \n",
            "\n",
            "                       tagline   title  vote_average  vote_count  \n",
            "0  Enter the World of Pandora.  Avatar           7.2       11800  \n",
            "       budget                                             genres  \\\n",
            "494  45000000  [{\"id\": 10751, \"name\": \"Family\"}, {\"id\": 16, \"...   \n",
            "\n",
            "                                   homepage    id  \\\n",
            "494  http://movies.disney.com/the-lion-king  8587   \n",
            "\n",
            "                                              keywords original_language  \\\n",
            "494  [{\"id\": 2143, \"name\": \"loss of parents\"}, {\"id...                en   \n",
            "\n",
            "    original_title                                           overview  \\\n",
            "494  The Lion King  A young lion cub named Simba can't wait to be ...   \n",
            "\n",
            "     popularity                               production_companies  \\\n",
            "494   90.457886  [{\"name\": \"Walt Disney Pictures\", \"id\": 2}, {\"...   \n",
            "\n",
            "                                  production_countries release_date  \\\n",
            "494  [{\"iso_3166_1\": \"US\", \"name\": \"United States o...   23-06-1994   \n",
            "\n",
            "       revenue  runtime                          spoken_languages    status  \\\n",
            "494  788241776     89.0  [{\"iso_639_1\": \"en\", \"name\": \"English\"}]  Released   \n",
            "\n",
            "                                               tagline          title  \\\n",
            "494  Life's greatest adventure is finding your plac...  The Lion King   \n",
            "\n",
            "     vote_average  vote_count  \n",
            "494           8.0        5376  \n"
          ]
        }
      ]
    },
    {
      "cell_type": "code",
      "source": [
        "movies_data['title'] = movies_data['title'].str.strip().str.lower()\n"
      ],
      "metadata": {
        "id": "ZwbEMigMx9uB"
      },
      "execution_count": null,
      "outputs": []
    },
    {
      "cell_type": "code",
      "source": [
        "title = title.strip().lower()\n"
      ],
      "metadata": {
        "id": "JmUpfHdTyLIH"
      },
      "execution_count": null,
      "outputs": []
    },
    {
      "cell_type": "code",
      "source": [
        "print(movies_data['genres'].head())  # Check the format of genres\n"
      ],
      "metadata": {
        "colab": {
          "base_uri": "https://localhost:8080/"
        },
        "id": "WYWRIomHyQdS",
        "outputId": "c235e947-a5b1-4ce0-f94d-9755c15bce5c"
      },
      "execution_count": null,
      "outputs": [
        {
          "output_type": "stream",
          "name": "stdout",
          "text": [
            "0    [{\"id\": 28, \"name\": \"Action\"}, {\"id\": 12, \"nam...\n",
            "1    [{\"id\": 12, \"name\": \"Adventure\"}, {\"id\": 14, \"...\n",
            "2    [{\"id\": 28, \"name\": \"Action\"}, {\"id\": 12, \"nam...\n",
            "3    [{\"id\": 28, \"name\": \"Action\"}, {\"id\": 80, \"nam...\n",
            "4    [{\"id\": 28, \"name\": \"Action\"}, {\"id\": 12, \"nam...\n",
            "Name: genres, dtype: object\n"
          ]
        }
      ]
    },
    {
      "cell_type": "code",
      "source": [
        "import ast\n",
        "\n",
        "def process_genres(genre_data):\n",
        "    try:\n",
        "        genres = ast.literal_eval(genre_data)\n",
        "        return genres if isinstance(genres, list) else []\n",
        "    except:\n",
        "        return []\n",
        "\n",
        "movies_data['genres'] = movies_data['genres'].apply(process_genres)\n"
      ],
      "metadata": {
        "id": "2Xk647IRybmm"
      },
      "execution_count": null,
      "outputs": []
    },
    {
      "cell_type": "code",
      "source": [
        "import pandas as pd\n",
        "\n",
        "# Load the dataset\n",
        "file_path = '/content/movies.csv'\n",
        "movies_data = pd.read_csv(file_path)\n",
        "\n",
        "# Inspect the first few rows and columns\n",
        "print(\"Columns in the dataset:\", movies_data.columns)\n",
        "print(movies_data.head())\n"
      ],
      "metadata": {
        "colab": {
          "base_uri": "https://localhost:8080/"
        },
        "id": "0ZQf4G2Wyfy9",
        "outputId": "6754a8ca-51c4-4818-8d39-5cdfc6751fbf"
      },
      "execution_count": null,
      "outputs": [
        {
          "output_type": "stream",
          "name": "stdout",
          "text": [
            "Columns in the dataset: Index(['budget', 'genres', 'homepage', 'id', 'keywords', 'original_language',\n",
            "       'original_title', 'overview', 'popularity', 'production_companies',\n",
            "       'production_countries', 'release_date', 'revenue', 'runtime',\n",
            "       'spoken_languages', 'status', 'tagline', 'title', 'vote_average',\n",
            "       'vote_count'],\n",
            "      dtype='object')\n",
            "      budget                                             genres  \\\n",
            "0  237000000  [{\"id\": 28, \"name\": \"Action\"}, {\"id\": 12, \"nam...   \n",
            "1  300000000  [{\"id\": 12, \"name\": \"Adventure\"}, {\"id\": 14, \"...   \n",
            "2  245000000  [{\"id\": 28, \"name\": \"Action\"}, {\"id\": 12, \"nam...   \n",
            "3  250000000  [{\"id\": 28, \"name\": \"Action\"}, {\"id\": 80, \"nam...   \n",
            "4  260000000  [{\"id\": 28, \"name\": \"Action\"}, {\"id\": 12, \"nam...   \n",
            "\n",
            "                                       homepage      id  \\\n",
            "0                   http://www.avatarmovie.com/   19995   \n",
            "1  http://disney.go.com/disneypictures/pirates/     285   \n",
            "2   http://www.sonypictures.com/movies/spectre/  206647   \n",
            "3            http://www.thedarkknightrises.com/   49026   \n",
            "4          http://movies.disney.com/john-carter   49529   \n",
            "\n",
            "                                            keywords original_language  \\\n",
            "0  [{\"id\": 1463, \"name\": \"culture clash\"}, {\"id\":...                en   \n",
            "1  [{\"id\": 270, \"name\": \"ocean\"}, {\"id\": 726, \"na...                en   \n",
            "2  [{\"id\": 470, \"name\": \"spy\"}, {\"id\": 818, \"name...                en   \n",
            "3  [{\"id\": 849, \"name\": \"dc comics\"}, {\"id\": 853,...                en   \n",
            "4  [{\"id\": 818, \"name\": \"based on novel\"}, {\"id\":...                en   \n",
            "\n",
            "                             original_title  \\\n",
            "0                                    Avatar   \n",
            "1  Pirates of the Caribbean: At World's End   \n",
            "2                                   Spectre   \n",
            "3                     The Dark Knight Rises   \n",
            "4                               John Carter   \n",
            "\n",
            "                                            overview  popularity  \\\n",
            "0  In the 22nd century, a paraplegic Marine is di...  150.437577   \n",
            "1  Captain Barbossa, long believed to be dead, ha...  139.082615   \n",
            "2  A cryptic message from Bond’s past sends him o...  107.376788   \n",
            "3  Following the death of District Attorney Harve...  112.312950   \n",
            "4  John Carter is a war-weary, former military ca...   43.926995   \n",
            "\n",
            "                                production_companies  \\\n",
            "0  [{\"name\": \"Ingenious Film Partners\", \"id\": 289...   \n",
            "1  [{\"name\": \"Walt Disney Pictures\", \"id\": 2}, {\"...   \n",
            "2  [{\"name\": \"Columbia Pictures\", \"id\": 5}, {\"nam...   \n",
            "3  [{\"name\": \"Legendary Pictures\", \"id\": 923}, {\"...   \n",
            "4        [{\"name\": \"Walt Disney Pictures\", \"id\": 2}]   \n",
            "\n",
            "                                production_countries release_date     revenue  \\\n",
            "0  [{\"iso_3166_1\": \"US\", \"name\": \"United States o...   10-12-2009  2787965087   \n",
            "1  [{\"iso_3166_1\": \"US\", \"name\": \"United States o...   19-05-2007   961000000   \n",
            "2  [{\"iso_3166_1\": \"GB\", \"name\": \"United Kingdom\"...   26-10-2015   880674609   \n",
            "3  [{\"iso_3166_1\": \"US\", \"name\": \"United States o...   16-07-2012  1084939099   \n",
            "4  [{\"iso_3166_1\": \"US\", \"name\": \"United States o...   07-03-2012   284139100   \n",
            "\n",
            "   runtime                                   spoken_languages    status  \\\n",
            "0    162.0  [{\"iso_639_1\": \"en\", \"name\": \"English\"}, {\"iso...  Released   \n",
            "1    169.0           [{\"iso_639_1\": \"en\", \"name\": \"English\"}]  Released   \n",
            "2    148.0  [{\"iso_639_1\": \"fr\", \"name\": \"Fran\\u00e7ais\"},...  Released   \n",
            "3    165.0           [{\"iso_639_1\": \"en\", \"name\": \"English\"}]  Released   \n",
            "4    132.0           [{\"iso_639_1\": \"en\", \"name\": \"English\"}]  Released   \n",
            "\n",
            "                                          tagline  \\\n",
            "0                     Enter the World of Pandora.   \n",
            "1  At the end of the world, the adventure begins.   \n",
            "2                           A Plan No One Escapes   \n",
            "3                                 The Legend Ends   \n",
            "4            Lost in our world, found in another.   \n",
            "\n",
            "                                      title  vote_average  vote_count  \n",
            "0                                    Avatar           7.2       11800  \n",
            "1  Pirates of the Caribbean: At World's End           6.9        4500  \n",
            "2                                   Spectre           6.3        4466  \n",
            "3                     The Dark Knight Rises           7.6        9106  \n",
            "4                               John Carter           6.1        2124  \n"
          ]
        }
      ]
    },
    {
      "cell_type": "code",
      "source": [
        "from sklearn.metrics import mean_squared_error, mean_absolute_error\n",
        "import numpy as np\n",
        "from sklearn.model_selection import train_test_split\n",
        "\n",
        "user_item_matrix = movies_data.pivot_table(index='id', columns='title', values='vote_average').fillna(0)\n",
        "\n",
        "\n",
        "train_data, test_data = train_test_split(user_item_matrix, test_size=0.2, random_state=42)\n",
        "\n",
        "movie_avg_ratings = train_data.mean()\n",
        "predictions = test_data.copy()\n",
        "\n",
        "for column in predictions.columns:\n",
        "    predictions[column] = movie_avg_ratings[column]\n",
        "test_data = test_data.fillna(0)\n",
        "\n",
        "rmse = np.sqrt(mean_squared_error(test_data, predictions))\n",
        "mae = mean_absolute_error(test_data, predictions)\n",
        "\n",
        "print(f\"RMSE: {rmse}\")\n",
        "print(f\"MAE: {mae}\")\n"
      ],
      "metadata": {
        "colab": {
          "base_uri": "https://localhost:8080/"
        },
        "id": "DzGM_q0yyntP",
        "outputId": "e60c7ba6-224b-415f-a902-d68502f583b0"
      },
      "execution_count": null,
      "outputs": [
        {
          "output_type": "stream",
          "name": "stdout",
          "text": [
            "RMSE: 0.08965467827314373\n",
            "MAE: 0.0025368472173846472\n"
          ]
        }
      ]
    },
    {
      "cell_type": "code",
      "source": [],
      "metadata": {
        "id": "avmnd7TCSpHv"
      },
      "execution_count": null,
      "outputs": []
    },
    {
      "cell_type": "code",
      "source": [],
      "metadata": {
        "id": "yyubIepXSsVJ"
      },
      "execution_count": null,
      "outputs": []
    }
  ]
}